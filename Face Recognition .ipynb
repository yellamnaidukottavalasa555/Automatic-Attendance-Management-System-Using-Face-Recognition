{
 "cells": [
  {
   "cell_type": "markdown",
   "metadata": {},
   "source": [
    "### Importing Required Libraries"
   ]
  },
  {
   "cell_type": "code",
   "execution_count": 1,
   "metadata": {},
   "outputs": [],
   "source": [
    "from tensorflow.keras.layers import Dense, Flatten\n",
    "from tensorflow.keras.models import Model\n",
    "from tensorflow.keras.applications.vgg16 import VGG16\n",
    "from tensorflow.keras.applications.vgg16 import preprocess_input\n",
    "from tensorflow.keras.preprocessing import image\n",
    "from tensorflow.keras.preprocessing.image import ImageDataGenerator\n",
    "from tensorflow.keras.models import Sequential\n",
    "import numpy as np\n",
    "from glob import glob\n",
    "import matplotlib.pyplot as plt"
   ]
  },
  {
   "cell_type": "code",
   "execution_count": 2,
   "metadata": {},
   "outputs": [],
   "source": [
    "IMG_SIZE = [244,244,3]"
   ]
  },
  {
   "cell_type": "code",
   "execution_count": 3,
   "metadata": {},
   "outputs": [],
   "source": [
    "train_path = 'Images/Train'\n",
    "valid_path = 'Images/Test'"
   ]
  },
  {
   "cell_type": "markdown",
   "metadata": {},
   "source": [
    "### Pre-Trained Model (VGG16)"
   ]
  },
  {
   "cell_type": "code",
   "execution_count": 4,
   "metadata": {},
   "outputs": [],
   "source": [
    "vgg_16 = VGG16(input_shape=IMG_SIZE,weights='imagenet',include_top=False)"
   ]
  },
  {
   "cell_type": "code",
   "execution_count": 5,
   "metadata": {},
   "outputs": [],
   "source": [
    "for layer in vgg_16.layers:\n",
    "    layer.trainable = False"
   ]
  },
  {
   "cell_type": "code",
   "execution_count": 6,
   "metadata": {},
   "outputs": [],
   "source": [
    "  # useful for getting number of classes\n",
    "folders = glob('Images/Train/*')\n",
    "\n",
    "# our layers - you can add more if you want\n",
    "x = Flatten()(vgg_16.output)\n",
    "# x = Dense(1000, activation='relu')(x)\n",
    "prediction = Dense(len(folders), activation='softmax')(x)"
   ]
  },
  {
   "cell_type": "code",
   "execution_count": 7,
   "metadata": {},
   "outputs": [
    {
     "data": {
      "text/plain": [
       "['Images/Train\\\\Karthik', 'Images/Train\\\\Naidu', 'Images/Train\\\\Usha']"
      ]
     },
     "execution_count": 7,
     "metadata": {},
     "output_type": "execute_result"
    }
   ],
   "source": [
    "folders"
   ]
  },
  {
   "cell_type": "code",
   "execution_count": 8,
   "metadata": {},
   "outputs": [],
   "source": [
    "model = Model(inputs=vgg_16.input,outputs=prediction)"
   ]
  },
  {
   "cell_type": "markdown",
   "metadata": {},
   "source": [
    "### Model Summary"
   ]
  },
  {
   "cell_type": "code",
   "execution_count": 9,
   "metadata": {},
   "outputs": [
    {
     "name": "stdout",
     "output_type": "stream",
     "text": [
      "Model: \"functional_1\"\n",
      "_________________________________________________________________\n",
      "Layer (type)                 Output Shape              Param #   \n",
      "=================================================================\n",
      "input_1 (InputLayer)         [(None, 244, 244, 3)]     0         \n",
      "_________________________________________________________________\n",
      "block1_conv1 (Conv2D)        (None, 244, 244, 64)      1792      \n",
      "_________________________________________________________________\n",
      "block1_conv2 (Conv2D)        (None, 244, 244, 64)      36928     \n",
      "_________________________________________________________________\n",
      "block1_pool (MaxPooling2D)   (None, 122, 122, 64)      0         \n",
      "_________________________________________________________________\n",
      "block2_conv1 (Conv2D)        (None, 122, 122, 128)     73856     \n",
      "_________________________________________________________________\n",
      "block2_conv2 (Conv2D)        (None, 122, 122, 128)     147584    \n",
      "_________________________________________________________________\n",
      "block2_pool (MaxPooling2D)   (None, 61, 61, 128)       0         \n",
      "_________________________________________________________________\n",
      "block3_conv1 (Conv2D)        (None, 61, 61, 256)       295168    \n",
      "_________________________________________________________________\n",
      "block3_conv2 (Conv2D)        (None, 61, 61, 256)       590080    \n",
      "_________________________________________________________________\n",
      "block3_conv3 (Conv2D)        (None, 61, 61, 256)       590080    \n",
      "_________________________________________________________________\n",
      "block3_pool (MaxPooling2D)   (None, 30, 30, 256)       0         \n",
      "_________________________________________________________________\n",
      "block4_conv1 (Conv2D)        (None, 30, 30, 512)       1180160   \n",
      "_________________________________________________________________\n",
      "block4_conv2 (Conv2D)        (None, 30, 30, 512)       2359808   \n",
      "_________________________________________________________________\n",
      "block4_conv3 (Conv2D)        (None, 30, 30, 512)       2359808   \n",
      "_________________________________________________________________\n",
      "block4_pool (MaxPooling2D)   (None, 15, 15, 512)       0         \n",
      "_________________________________________________________________\n",
      "block5_conv1 (Conv2D)        (None, 15, 15, 512)       2359808   \n",
      "_________________________________________________________________\n",
      "block5_conv2 (Conv2D)        (None, 15, 15, 512)       2359808   \n",
      "_________________________________________________________________\n",
      "block5_conv3 (Conv2D)        (None, 15, 15, 512)       2359808   \n",
      "_________________________________________________________________\n",
      "block5_pool (MaxPooling2D)   (None, 7, 7, 512)         0         \n",
      "_________________________________________________________________\n",
      "flatten (Flatten)            (None, 25088)             0         \n",
      "_________________________________________________________________\n",
      "dense (Dense)                (None, 3)                 75267     \n",
      "=================================================================\n",
      "Total params: 14,789,955\n",
      "Trainable params: 75,267\n",
      "Non-trainable params: 14,714,688\n",
      "_________________________________________________________________\n"
     ]
    }
   ],
   "source": [
    "model.summary()"
   ]
  },
  {
   "cell_type": "markdown",
   "metadata": {},
   "source": [
    "### Compiling Model "
   ]
  },
  {
   "cell_type": "code",
   "execution_count": 10,
   "metadata": {},
   "outputs": [],
   "source": [
    "model.compile(\n",
    "  loss='categorical_crossentropy',\n",
    "  optimizer='adam',\n",
    "  metrics=['accuracy']\n",
    ")"
   ]
  },
  {
   "cell_type": "markdown",
   "metadata": {},
   "source": [
    "## Data Augumentation"
   ]
  },
  {
   "cell_type": "code",
   "execution_count": 11,
   "metadata": {},
   "outputs": [
    {
     "name": "stdout",
     "output_type": "stream",
     "text": [
      "Found 720 images belonging to 3 classes.\n",
      "Found 180 images belonging to 3 classes.\n"
     ]
    }
   ],
   "source": [
    "from tensorflow.keras.preprocessing.image import ImageDataGenerator\n",
    "\n",
    "train_datagen = ImageDataGenerator(rescale = 1./255,\n",
    "                                   shear_range = 0.2,\n",
    "                                   zoom_range = 0.2,\n",
    "                                   horizontal_flip = True)\n",
    "\n",
    "test_datagen = ImageDataGenerator(rescale = 1./255)\n",
    "\n",
    "training_set = train_datagen.flow_from_directory('Images/Train',\n",
    "                                                 target_size = (224, 224),\n",
    "                                                 batch_size = 32,\n",
    "                                                 class_mode = 'categorical')\n",
    "\n",
    "test_set = test_datagen.flow_from_directory('Images/Test',\n",
    "                                            target_size = (224, 224),\n",
    "                                            batch_size = 32,\n",
    "                                            class_mode = 'categorical')"
   ]
  },
  {
   "cell_type": "code",
   "execution_count": 12,
   "metadata": {},
   "outputs": [
    {
     "name": "stdout",
     "output_type": "stream",
     "text": [
      "WARNING:tensorflow:From <ipython-input-12-4e325f272b50>:1: Model.fit_generator (from tensorflow.python.keras.engine.training) is deprecated and will be removed in a future version.\n",
      "Instructions for updating:\n",
      "Please use Model.fit, which supports generators.\n",
      "Epoch 1/20\n",
      "23/23 [==============================] - 26s 1s/step - loss: 0.2754 - accuracy: 0.8903 - val_loss: 0.0014 - val_accuracy: 1.0000\n",
      "Epoch 2/20\n",
      "23/23 [==============================] - 15s 672ms/step - loss: 0.0039 - accuracy: 0.9986 - val_loss: 3.1338e-04 - val_accuracy: 1.0000\n",
      "Epoch 3/20\n",
      "23/23 [==============================] - 15s 656ms/step - loss: 0.0012 - accuracy: 1.0000 - val_loss: 2.2865e-04 - val_accuracy: 1.0000\n",
      "Epoch 4/20\n",
      "23/23 [==============================] - 17s 718ms/step - loss: 0.0011 - accuracy: 1.0000 - val_loss: 2.2852e-04 - val_accuracy: 1.0000\n",
      "Epoch 5/20\n",
      "23/23 [==============================] - 17s 726ms/step - loss: 9.5890e-04 - accuracy: 1.0000 - val_loss: 1.9630e-04 - val_accuracy: 1.0000\n",
      "Epoch 6/20\n",
      "23/23 [==============================] - 16s 694ms/step - loss: 0.0010 - accuracy: 1.0000 - val_loss: 1.5765e-04 - val_accuracy: 1.0000\n",
      "Epoch 7/20\n",
      "23/23 [==============================] - 15s 669ms/step - loss: 9.2547e-04 - accuracy: 1.0000 - val_loss: 1.4494e-04 - val_accuracy: 1.0000\n",
      "Epoch 8/20\n",
      "23/23 [==============================] - 16s 684ms/step - loss: 7.0023e-04 - accuracy: 1.0000 - val_loss: 1.3917e-04 - val_accuracy: 1.0000\n",
      "Epoch 9/20\n",
      "23/23 [==============================] - 14s 614ms/step - loss: 6.8501e-04 - accuracy: 1.0000 - val_loss: 1.2686e-04 - val_accuracy: 1.0000\n",
      "Epoch 10/20\n",
      "23/23 [==============================] - 14s 601ms/step - loss: 8.2978e-04 - accuracy: 1.0000 - val_loss: 1.1299e-04 - val_accuracy: 1.0000\n",
      "Epoch 11/20\n",
      "23/23 [==============================] - 17s 743ms/step - loss: 5.9690e-04 - accuracy: 1.0000 - val_loss: 1.0521e-04 - val_accuracy: 1.0000\n",
      "Epoch 12/20\n",
      "23/23 [==============================] - 16s 687ms/step - loss: 6.9676e-04 - accuracy: 1.0000 - val_loss: 9.7388e-05 - val_accuracy: 1.0000\n",
      "Epoch 13/20\n",
      "23/23 [==============================] - 14s 628ms/step - loss: 4.5978e-04 - accuracy: 1.0000 - val_loss: 9.1708e-05 - val_accuracy: 1.0000\n",
      "Epoch 14/20\n",
      "23/23 [==============================] - 16s 677ms/step - loss: 4.9237e-04 - accuracy: 1.0000 - val_loss: 8.3475e-05 - val_accuracy: 1.0000\n",
      "Epoch 15/20\n",
      "23/23 [==============================] - 15s 672ms/step - loss: 7.1714e-04 - accuracy: 1.0000 - val_loss: 8.8242e-05 - val_accuracy: 1.0000\n",
      "Epoch 16/20\n",
      "23/23 [==============================] - 14s 594ms/step - loss: 4.6974e-04 - accuracy: 1.0000 - val_loss: 7.6800e-05 - val_accuracy: 1.0000\n",
      "Epoch 17/20\n",
      "23/23 [==============================] - 16s 676ms/step - loss: 3.1915e-04 - accuracy: 1.0000 - val_loss: 7.0382e-05 - val_accuracy: 1.0000\n",
      "Epoch 18/20\n",
      "23/23 [==============================] - 15s 654ms/step - loss: 4.1483e-04 - accuracy: 1.0000 - val_loss: 6.6146e-05 - val_accuracy: 1.0000\n",
      "Epoch 19/20\n",
      "23/23 [==============================] - 15s 663ms/step - loss: 3.2790e-04 - accuracy: 1.0000 - val_loss: 6.0267e-05 - val_accuracy: 1.0000\n",
      "Epoch 20/20\n",
      "23/23 [==============================] - 16s 687ms/step - loss: 4.7200e-04 - accuracy: 1.0000 - val_loss: 6.6353e-05 - val_accuracy: 1.0000\n"
     ]
    }
   ],
   "source": [
    "result = model.fit_generator(\n",
    "  training_set,\n",
    "  validation_data=test_set,\n",
    "  epochs=20,\n",
    "  steps_per_epoch=len(training_set),\n",
    "  validation_steps=len(test_set)\n",
    ")"
   ]
  },
  {
   "cell_type": "markdown",
   "metadata": {},
   "source": [
    "### Visualizing Training Loss and Validation Loss"
   ]
  },
  {
   "cell_type": "code",
   "execution_count": 13,
   "metadata": {},
   "outputs": [
    {
     "data": {
      "image/png": "[encoded data removed]",
      "text/plain": [
       "<Figure size 432x288 with 1 Axes>"
      ]
     },
     "metadata": {
      "needs_background": "light"
     },
     "output_type": "display_data"
    },
    {
     "data": {
      "text/plain": [
       "<Figure size 432x288 with 0 Axes>"
      ]
     },
     "metadata": {},
     "output_type": "display_data"
    }
   ],
   "source": [
    "plt.plot(result.history['loss'], label='train loss')\n",
    "plt.plot(result.history['val_loss'], label='val loss')\n",
    "plt.xlabel(\"Epochs\")\n",
    "plt.ylabel(\"Loss\")\n",
    "plt.legend()\n",
    "plt.show()\n",
    "plt.savefig('LossVal_loss')"
   ]
  },
  {
   "cell_type": "markdown",
   "metadata": {},
   "source": [
    "### Visualizing Training Accuracy and Validation Accuracy"
   ]
  },
  {
   "cell_type": "code",
   "execution_count": 14,
   "metadata": {},
   "outputs": [
    {
     "data": {
      "image/png": "[encoded data removed]",
      "text/plain": [
       "<Figure size 432x288 with 1 Axes>"
      ]
     },
     "metadata": {
      "needs_background": "light"
     },
     "output_type": "display_data"
    },
    {
     "data": {
      "text/plain": [
       "<Figure size 432x288 with 0 Axes>"
      ]
     },
     "metadata": {},
     "output_type": "display_data"
    }
   ],
   "source": [
    "plt.plot(result.history['accuracy'], label='train acc')\n",
    "plt.plot(result.history['val_accuracy'], label='val acc')\n",
    "plt.xlabel(\"Epochs\")\n",
    "plt.ylabel(\"Loss\")\n",
    "plt.legend()\n",
    "plt.show()\n",
    "plt.savefig('AccVal_acc')"
   ]
  },
  {
   "cell_type": "markdown",
   "metadata": {},
   "source": [
    "### Saving Model "
   ]
  },
  {
   "cell_type": "code",
   "execution_count": 15,
   "metadata": {},
   "outputs": [],
   "source": [
    "from tensorflow.keras.models import load_model\n",
    "model.save('face_rec_model.h5')"
   ]
  }
 ],
 "metadata": {
  "kernelspec": {
   "display_name": "Python 3",
   "language": "python",
   "name": "python3"
  },
  "language_info": {
   "codemirror_mode": {
    "name": "ipython",
    "version": 3
   },
   "file_extension": ".py",
   "mimetype": "text/x-python",
   "name": "python",
   "nbconvert_exporter": "python",
   "pygments_lexer": "ipython3",
   "version": "3.8.3"
  }
 },
 "nbformat": 4,
 "nbformat_minor": 4
}
