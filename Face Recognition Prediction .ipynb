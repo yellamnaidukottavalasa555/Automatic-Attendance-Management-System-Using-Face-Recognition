{
 "cells": [
  {
   "cell_type": "markdown",
   "metadata": {},
   "source": [
    "### Importing Required Libraries"
   ]
  },
  {
   "cell_type": "code",
   "execution_count": 1,
   "metadata": {},
   "outputs": [],
   "source": [
    "import numpy as np \n",
    "import os.path\n",
    "from PIL import Image\n",
    "import cv2\n",
    "import datetime\n",
    "import pandas as pd\n",
    "from tensorflow.keras.models import load_model "
   ]
  },
  {
   "cell_type": "markdown",
   "metadata": {},
   "source": [
    "### Loading Model "
   ]
  },
  {
   "cell_type": "code",
   "execution_count": 2,
   "metadata": {},
   "outputs": [],
   "source": [
    "model = load_model('face_rec_model.h5')"
   ]
  },
  {
   "cell_type": "markdown",
   "metadata": {},
   "source": [
    "### Loading FrontalFace Haar Cascade "
   ]
  },
  {
   "cell_type": "code",
   "execution_count": 3,
   "metadata": {},
   "outputs": [],
   "source": [
    "face_cascade = cv2.CascadeClassifier('FrontFace Haar Cascade.xml')"
   ]
  },
  {
   "cell_type": "code",
   "execution_count": 5,
   "metadata": {},
   "outputs": [],
   "source": [
    "Id_ = []\n",
    "name_ = []\n",
    "time_ = []\n",
    "def marking_attendance():\n",
    "        df = pd.DataFrame({})\n",
    "        Id_.append(ID)\n",
    "        name_.append(name)\n",
    "        #local time\n",
    "        now = datetime.datetime.now()\n",
    "        t =  now.strftime('%H:%M:%S')\n",
    "        time_.append(t)\n",
    "        df['ID'] = Id_\n",
    "        df['Name'] = name_\n",
    "        df['Time'] = time_\n",
    "        df.to_csv(\"Attendance_sheet.csv\")\n",
    "        print(\"Attendance Sheet Created!!\")\n",
    "        print(\"Successfully Attendance Marked!!!\")"
   ]
  },
  {
   "cell_type": "code",
   "execution_count": null,
   "metadata": {
    "scrolled": true
   },
   "outputs": [
    {
     "name": "stdout",
     "output_type": "stream",
     "text": [
      "WARNING:tensorflow:Model was constructed with shape (None, 244, 244, 3) for input Tensor(\"input_1:0\", shape=(None, 244, 244, 3), dtype=float32), but it was called on an input with incompatible shape (None, 224, 224, 3).\n"
     ]
    }
   ],
   "source": [
    "video_capture = cv2.VideoCapture(0)\n",
    "\n",
    "while True:\n",
    "    _, frame = video_capture.read()\n",
    "    \n",
    "    faces = face_cascade.detectMultiScale(frame, 1.3, 5)\n",
    "    \n",
    "    for (x,y,w,h) in faces:\n",
    "        cv2.rectangle(frame, (x,y), (x+w, y+h), (255,0,0), 2)\n",
    "        face = frame[y:y+h, x:x+w]\n",
    "    if type(face) is np.ndarray:\n",
    "        face = cv2.resize(face, (224,224))\n",
    "        im = Image.fromarray(face, 'RGB')\n",
    "        img_array = np.array(im)\n",
    "        img_array = np.expand_dims(img_array, axis = 0)\n",
    "        pred = model.predict(img_array)        \n",
    "        name = \"None Matching\"\n",
    "        \n",
    "        if (pred[0][0]>0.5):\n",
    "            name = \"Usha\"\n",
    "            ID = \"1\"\n",
    "            \n",
    "        elif (pred[0][1]>0.5):\n",
    "            name = \"Naidu\"\n",
    "            ID = \"2\"\n",
    "            \n",
    "        elif (pred[0][2]>0.5):\n",
    "            name = \"Karthik\"\n",
    "            ID = \"3\"\n",
    "            \n",
    "        cv2.putText(frame, \"ID: \"+ID+\" \"+name, (200,50), cv2.FONT_HERSHEY_COMPLEX, 1, (0,255,0), 2)\n",
    "    else:\n",
    "        cv2.putText(frame, \"No Face Found\", (150,50), cv2.FONT_HERSHEY_COMPLEX, 1, (0,255,0), 2)\n",
    "    cv2.imshow('Video', frame)\n",
    "    \n",
    "    if cv2.waitKey(1) & 0xFF == ord('q'):\n",
    "        break\n",
    "print(\"Softmax : \",np.round(pred))\n",
    "\n",
    "video_capture.release()\n",
    "cv2.destroyAllWindows()\n",
    "\n",
    "\n",
    "marking_attendance()"
   ]
  }
 ],
 "metadata": {
  "kernelspec": {
   "display_name": "Python 3",
   "language": "python",
   "name": "python3"
  },
  "language_info": {
   "codemirror_mode": {
    "name": "ipython",
    "version": 3
   },
   "file_extension": ".py",
   "mimetype": "text/x-python",
   "name": "python",
   "nbconvert_exporter": "python",
   "pygments_lexer": "ipython3",
   "version": "3.8.3"
  }
 },
 "nbformat": 4,
 "nbformat_minor": 4
}
